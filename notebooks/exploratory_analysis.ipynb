import pandas as pd
import matplotlib.pyplot as plt
import seaborn as sns

# Load dataset
df = pd.read_csv("../data/customer_data.csv")

# Display first few rows
print(df.head())

# Check for missing values
print(df.isnull().sum())

# Summary statistics
print(df.describe())

# Visualizing distributions
sns.pairplot(df)
plt.show()
